{
 "cells": [
  {
   "cell_type": "code",
   "execution_count": 1,
   "metadata": {
    "colab": {
     "base_uri": "https://localhost:8080/"
    },
    "id": "6KiPUBG0XTl4",
    "outputId": "d4e6ff0b-a54c-4a1a-e669-d40c3f933625"
   },
   "outputs": [
    {
     "name": "stdout",
     "output_type": "stream",
     "text": [
      "Requirement already satisfied: pyspark[sql] in /usr/local/lib/python3.10/dist-packages (3.5.1)\n",
      "Requirement already satisfied: py4j==0.10.9.7 in /usr/local/lib/python3.10/dist-packages (from pyspark[sql]) (0.10.9.7)\n",
      "Requirement already satisfied: pandas>=1.0.5 in /usr/local/lib/python3.10/dist-packages (from pyspark[sql]) (2.0.3)\n",
      "Requirement already satisfied: pyarrow>=4.0.0 in /usr/local/lib/python3.10/dist-packages (from pyspark[sql]) (14.0.2)\n",
      "Requirement already satisfied: numpy>=1.15 in /usr/local/lib/python3.10/dist-packages (from pyspark[sql]) (1.25.2)\n",
      "Requirement already satisfied: python-dateutil>=2.8.2 in /usr/local/lib/python3.10/dist-packages (from pandas>=1.0.5->pyspark[sql]) (2.8.2)\n",
      "Requirement already satisfied: pytz>=2020.1 in /usr/local/lib/python3.10/dist-packages (from pandas>=1.0.5->pyspark[sql]) (2023.4)\n",
      "Requirement already satisfied: tzdata>=2022.1 in /usr/local/lib/python3.10/dist-packages (from pandas>=1.0.5->pyspark[sql]) (2024.1)\n",
      "Requirement already satisfied: six>=1.5 in /usr/local/lib/python3.10/dist-packages (from python-dateutil>=2.8.2->pandas>=1.0.5->pyspark[sql]) (1.16.0)\n",
      "Requirement already satisfied: pyspark[pandas_on_spark] in /usr/local/lib/python3.10/dist-packages (3.5.1)\n",
      "Requirement already satisfied: plotly in /usr/local/lib/python3.10/dist-packages (5.15.0)\n",
      "Requirement already satisfied: py4j==0.10.9.7 in /usr/local/lib/python3.10/dist-packages (from pyspark[pandas_on_spark]) (0.10.9.7)\n",
      "Requirement already satisfied: pandas>=1.0.5 in /usr/local/lib/python3.10/dist-packages (from pyspark[pandas_on_spark]) (2.0.3)\n",
      "Requirement already satisfied: pyarrow>=4.0.0 in /usr/local/lib/python3.10/dist-packages (from pyspark[pandas_on_spark]) (14.0.2)\n",
      "Requirement already satisfied: numpy>=1.15 in /usr/local/lib/python3.10/dist-packages (from pyspark[pandas_on_spark]) (1.25.2)\n",
      "Requirement already satisfied: tenacity>=6.2.0 in /usr/local/lib/python3.10/dist-packages (from plotly) (8.3.0)\n",
      "Requirement already satisfied: packaging in /usr/local/lib/python3.10/dist-packages (from plotly) (24.0)\n",
      "Requirement already satisfied: python-dateutil>=2.8.2 in /usr/local/lib/python3.10/dist-packages (from pandas>=1.0.5->pyspark[pandas_on_spark]) (2.8.2)\n",
      "Requirement already satisfied: pytz>=2020.1 in /usr/local/lib/python3.10/dist-packages (from pandas>=1.0.5->pyspark[pandas_on_spark]) (2023.4)\n",
      "Requirement already satisfied: tzdata>=2022.1 in /usr/local/lib/python3.10/dist-packages (from pandas>=1.0.5->pyspark[pandas_on_spark]) (2024.1)\n",
      "Requirement already satisfied: six>=1.5 in /usr/local/lib/python3.10/dist-packages (from python-dateutil>=2.8.2->pandas>=1.0.5->pyspark[pandas_on_spark]) (1.16.0)\n",
      "Requirement already satisfied: pyspark[connect] in /usr/local/lib/python3.10/dist-packages (3.5.1)\n",
      "Requirement already satisfied: py4j==0.10.9.7 in /usr/local/lib/python3.10/dist-packages (from pyspark[connect]) (0.10.9.7)\n",
      "Requirement already satisfied: pandas>=1.0.5 in /usr/local/lib/python3.10/dist-packages (from pyspark[connect]) (2.0.3)\n",
      "Requirement already satisfied: pyarrow>=4.0.0 in /usr/local/lib/python3.10/dist-packages (from pyspark[connect]) (14.0.2)\n",
      "Requirement already satisfied: grpcio>=1.56.0 in /usr/local/lib/python3.10/dist-packages (from pyspark[connect]) (1.63.0)\n",
      "Requirement already satisfied: grpcio-status>=1.56.0 in /usr/local/lib/python3.10/dist-packages (from pyspark[connect]) (1.62.2)\n",
      "Requirement already satisfied: googleapis-common-protos>=1.56.4 in /usr/local/lib/python3.10/dist-packages (from pyspark[connect]) (1.63.0)\n",
      "Requirement already satisfied: numpy>=1.15 in /usr/local/lib/python3.10/dist-packages (from pyspark[connect]) (1.25.2)\n",
      "Requirement already satisfied: protobuf!=3.20.0,!=3.20.1,!=4.21.1,!=4.21.2,!=4.21.3,!=4.21.4,!=4.21.5,<5.0.0.dev0,>=3.19.5 in /usr/local/lib/python3.10/dist-packages (from googleapis-common-protos>=1.56.4->pyspark[connect]) (4.25.3)\n",
      "Requirement already satisfied: python-dateutil>=2.8.2 in /usr/local/lib/python3.10/dist-packages (from pandas>=1.0.5->pyspark[connect]) (2.8.2)\n",
      "Requirement already satisfied: pytz>=2020.1 in /usr/local/lib/python3.10/dist-packages (from pandas>=1.0.5->pyspark[connect]) (2023.4)\n",
      "Requirement already satisfied: tzdata>=2022.1 in /usr/local/lib/python3.10/dist-packages (from pandas>=1.0.5->pyspark[connect]) (2024.1)\n",
      "Requirement already satisfied: six>=1.5 in /usr/local/lib/python3.10/dist-packages (from python-dateutil>=2.8.2->pandas>=1.0.5->pyspark[connect]) (1.16.0)\n"
     ]
    }
   ],
   "source": [
    "!pip install pyspark[sql]\n",
    "!pip install pyspark[pandas_on_spark] plotly\n",
    "!pip install pyspark[connect]"
   ]
  },
  {
   "cell_type": "code",
   "execution_count": 2,
   "metadata": {
    "id": "Z0_1SFhCjzAm"
   },
   "outputs": [],
   "source": [
    "#mengimport modul yang dibutuhkan\n",
    "from pyspark.sql import SparkSession\n",
    "from pyspark.sql.types import *\n",
    "from pyspark.sql.functions import *\n",
    "from pyspark.ml.recommendation import ALS\n",
    "from pyspark.ml.evaluation import RegressionEvaluator\n",
    "from pyspark.sql.functions import hash, abs"
   ]
  },
  {
   "cell_type": "code",
   "execution_count": 3,
   "metadata": {
    "id": "VAlYUcdxkaub"
   },
   "outputs": [],
   "source": [
    "#membuat session\n",
    "appName = \"Sistem Penskoran Otomatis pada Soal Essay\"\n",
    "spark = SparkSession \\\n",
    "    .builder \\\n",
    "    .appName(appName) \\\n",
    "    .config(\"spark.some.config.option\", \"some-value\") \\\n",
    "    .getOrCreate()"
   ]
  },
  {
   "cell_type": "markdown",
   "metadata": {},
   "source": [
    "# Import Dataset"
   ]
  },
  {
   "cell_type": "code",
   "execution_count": 4,
   "metadata": {
    "colab": {
     "base_uri": "https://localhost:8080/"
    },
    "id": "KsyBqwOAkbD-",
    "outputId": "f1b428ea-e71c-4dd0-eadb-3921e3588372"
   },
   "outputs": [
    {
     "name": "stdout",
     "output_type": "stream",
     "text": [
      "+----------+------------+--------------------+----+-------------+\n",
      "|       npm|nama_peserta|             jawaban|soal|skor_per_soal|\n",
      "+----------+------------+--------------------+----+-------------+\n",
      "|         0|       Admin|Tidak, Hanya memb...|   1|          100|\n",
      "|         0|       Admin|Biaya dihitung be...|   2|          100|\n",
      "|         0|       Admin|Hak cipta adalah ...|   3|          100|\n",
      "|         0|       Admin|Dijelaskan kepada...|   4|          100|\n",
      "|         0|       Admin|1. Melindungi dan...|   5|          100|\n",
      "|         0|       Admin|Ruang Komputer, P...|   6|          100|\n",
      "|         0|       Admin|Aturlah posisi pe...|   7|          100|\n",
      "|         0|       Admin|Posisi Kepala dan...|   8|          100|\n",
      "|         0|       Admin|1. Kecocokan soft...|   9|          100|\n",
      "|         0|       Admin|1. Fokus dan expo...|  10|          100|\n",
      "|         0|       Admin|1. Peralatan yang...|  11|          100|\n",
      "|         0|       Admin|1. Dibuat grafik ...|  12|          100|\n",
      "|1121020033|          AP|tidak, cuma mengi...|   1|         52,7|\n",
      "|1121020033|          AP|biaya dihitung be...|   2|        42,86|\n",
      "|1121020033|          AP|hak membuat merup...|   3|        42,16|\n",
      "|1121020033|          AP|dipaparkan pada k...|   4|        27,19|\n",
      "|1121020033|          AP|1. mencegah serta...|   5|        44,14|\n",
      "|1121020033|          AP|ruang komputer, p...|   6|          100|\n",
      "|1121020033|          AP|aturlah posisi fi...|   7|        57,68|\n",
      "|1121020033|          AP|posisi kepala ser...|   8|        45,71|\n",
      "+----------+------------+--------------------+----+-------------+\n",
      "only showing top 20 rows\n",
      "\n"
     ]
    }
   ],
   "source": [
    "df = spark.read.csv('/content/training_data_essay.csv', inferSchema=True, header=True, sep=';')\n",
    "df.show()"
   ]
  },
  {
   "cell_type": "markdown",
   "metadata": {},
   "source": [
    "# Pre-Processing Data"
   ]
  },
  {
   "cell_type": "code",
   "execution_count": 5,
   "metadata": {
    "colab": {
     "base_uri": "https://localhost:8080/"
    },
    "id": "qLnKlA9rkj1f",
    "outputId": "5cf00b43-4cea-4b2d-ab55-1a92bda92a4a"
   },
   "outputs": [
    {
     "name": "stdout",
     "output_type": "stream",
     "text": [
      "+----------+------------+--------------------+----+-------------+\n",
      "|       npm|nama_peserta|             jawaban|soal|skor_per_soal|\n",
      "+----------+------------+--------------------+----+-------------+\n",
      "|         0|       Admin|Tidak, Hanya memb...|   1|          100|\n",
      "|         0|       Admin|Biaya dihitung be...|   2|          100|\n",
      "|         0|       Admin|Hak cipta adalah ...|   3|          100|\n",
      "|         0|       Admin|Dijelaskan kepada...|   4|          100|\n",
      "|         0|       Admin|1. Melindungi dan...|   5|          100|\n",
      "|         0|       Admin|Ruang Komputer, P...|   6|          100|\n",
      "|         0|       Admin|Aturlah posisi pe...|   7|          100|\n",
      "|         0|       Admin|Posisi Kepala dan...|   8|          100|\n",
      "|         0|       Admin|1. Kecocokan soft...|   9|          100|\n",
      "|         0|       Admin|1. Fokus dan expo...|  10|          100|\n",
      "|         0|       Admin|1. Peralatan yang...|  11|          100|\n",
      "|         0|       Admin|1. Dibuat grafik ...|  12|          100|\n",
      "|1121020033|          AP|tidak, cuma mengi...|   1|         52.7|\n",
      "|1121020033|          AP|biaya dihitung be...|   2|        42.86|\n",
      "|1121020033|          AP|hak membuat merup...|   3|        42.16|\n",
      "|1121020033|          AP|dipaparkan pada k...|   4|        27.19|\n",
      "|1121020033|          AP|1. mencegah serta...|   5|        44.14|\n",
      "|1121020033|          AP|ruang komputer, p...|   6|          100|\n",
      "|1121020033|          AP|aturlah posisi fi...|   7|        57.68|\n",
      "|1121020033|          AP|posisi kepala ser...|   8|        45.71|\n",
      "+----------+------------+--------------------+----+-------------+\n",
      "only showing top 20 rows\n",
      "\n"
     ]
    }
   ],
   "source": [
    "# Ganti koma (“,”) dengan titik (“.”) pada kolom “skor_per_soal”.\n",
    "df1 = df.withColumn(\"skor_per_soal\", regexp_replace(col(\"skor_per_soal\"), \",\", \".\"))\n",
    "df1.show()"
   ]
  },
  {
   "cell_type": "code",
   "execution_count": 6,
   "metadata": {
    "colab": {
     "base_uri": "https://localhost:8080/"
    },
    "id": "TaZ6_GHckwYm",
    "outputId": "10a10f7e-1ed7-4866-c96c-c90b30846510"
   },
   "outputs": [
    {
     "name": "stdout",
     "output_type": "stream",
     "text": [
      "root\n",
      " |-- npm: integer (nullable = true)\n",
      " |-- nama_peserta: string (nullable = true)\n",
      " |-- jawaban: string (nullable = true)\n",
      " |-- soal: integer (nullable = true)\n",
      " |-- skor_per_soal: string (nullable = true)\n",
      "\n"
     ]
    }
   ],
   "source": [
    "# Menampilkan skema DataFrame\n",
    "df1.printSchema()"
   ]
  },
  {
   "cell_type": "code",
   "execution_count": 7,
   "metadata": {
    "colab": {
     "base_uri": "https://localhost:8080/"
    },
    "id": "5qojGYzSkxXB",
    "outputId": "5378bd41-9faf-4a97-b4a4-6c42cec7335b"
   },
   "outputs": [
    {
     "name": "stdout",
     "output_type": "stream",
     "text": [
      "root\n",
      " |-- npm: integer (nullable = true)\n",
      " |-- nama_peserta: string (nullable = true)\n",
      " |-- jawaban: string (nullable = true)\n",
      " |-- soal: integer (nullable = true)\n",
      " |-- skor_per_soal: float (nullable = true)\n",
      "\n"
     ]
    }
   ],
   "source": [
    "# Ubah tipe data kolom \"skor_per_soal\" menjadi integer\n",
    "data_essay = df1.withColumn(\"skor_per_soal\", col(\"skor_per_soal\").cast(\"float\"))\n",
    "\n",
    "data_essay.printSchema()"
   ]
  },
  {
   "cell_type": "markdown",
   "metadata": {},
   "source": [
    "# Menyiapkan Data"
   ]
  },
  {
   "cell_type": "code",
   "execution_count": 8,
   "metadata": {
    "colab": {
     "base_uri": "https://localhost:8080/"
    },
    "id": "nV7VFmugk1KJ",
    "outputId": "6a1d0297-ac3f-4891-a399-79d6f733cbe7"
   },
   "outputs": [
    {
     "name": "stdout",
     "output_type": "stream",
     "text": [
      "+----+--------------------+-------------+\n",
      "|soal|             jawaban|skor_per_soal|\n",
      "+----+--------------------+-------------+\n",
      "|   1|Tidak, Hanya memb...|        100.0|\n",
      "|   2|Biaya dihitung be...|        100.0|\n",
      "|   3|Hak cipta adalah ...|        100.0|\n",
      "|   4|Dijelaskan kepada...|        100.0|\n",
      "|   5|1. Melindungi dan...|        100.0|\n",
      "|   6|Ruang Komputer, P...|        100.0|\n",
      "|   7|Aturlah posisi pe...|        100.0|\n",
      "|   8|Posisi Kepala dan...|        100.0|\n",
      "|   9|1. Kecocokan soft...|        100.0|\n",
      "|  10|1. Fokus dan expo...|        100.0|\n",
      "|  11|1. Peralatan yang...|        100.0|\n",
      "|  12|1. Dibuat grafik ...|        100.0|\n",
      "|   1|tidak, cuma mengi...|         52.7|\n",
      "|   2|biaya dihitung be...|        42.86|\n",
      "|   3|hak membuat merup...|        42.16|\n",
      "|   4|dipaparkan pada k...|        27.19|\n",
      "|   5|1. mencegah serta...|        44.14|\n",
      "|   6|ruang komputer, p...|        100.0|\n",
      "|   7|aturlah posisi fi...|        57.68|\n",
      "|   8|posisi kepala ser...|        45.71|\n",
      "+----+--------------------+-------------+\n",
      "only showing top 20 rows\n",
      "\n"
     ]
    }
   ],
   "source": [
    "data = data_essay.select(\"soal\",\"jawaban\",'skor_per_soal')\n",
    "data.show()"
   ]
  },
  {
   "cell_type": "markdown",
   "metadata": {},
   "source": [
    "# Mengonversi kolom 'jawaban' menjadi representasi numerik"
   ]
  },
  {
   "cell_type": "code",
   "execution_count": 9,
   "metadata": {
    "colab": {
     "base_uri": "https://localhost:8080/"
    },
    "id": "YIiuiz4ck4FG",
    "outputId": "86d33065-7ca0-4665-f841-0c735ba761f3"
   },
   "outputs": [
    {
     "name": "stdout",
     "output_type": "stream",
     "text": [
      "+----+--------------------+-------------+-------------+\n",
      "|soal|             jawaban|skor_per_soal|hashed_answer|\n",
      "+----+--------------------+-------------+-------------+\n",
      "|   1|Tidak, Hanya memb...|        100.0|  -2059296905|\n",
      "|   2|Biaya dihitung be...|        100.0|   1183180174|\n",
      "|   3|Hak cipta adalah ...|        100.0|   1232762403|\n",
      "|   4|Dijelaskan kepada...|        100.0|  -2035408785|\n",
      "|   5|1. Melindungi dan...|        100.0|   1588395990|\n",
      "|   6|Ruang Komputer, P...|        100.0|    339970513|\n",
      "|   7|Aturlah posisi pe...|        100.0|     50850002|\n",
      "|   8|Posisi Kepala dan...|        100.0|   -945877996|\n",
      "|   9|1. Kecocokan soft...|        100.0|   1576366224|\n",
      "|  10|1. Fokus dan expo...|        100.0|  -1905649442|\n",
      "|  11|1. Peralatan yang...|        100.0|    550139146|\n",
      "|  12|1. Dibuat grafik ...|        100.0|   1727767227|\n",
      "|   1|tidak, cuma mengi...|         52.7|   1947733435|\n",
      "|   2|biaya dihitung be...|        42.86|  -1139863335|\n",
      "|   3|hak membuat merup...|        42.16|    122676417|\n",
      "|   4|dipaparkan pada k...|        27.19|  -1054163002|\n",
      "|   5|1. mencegah serta...|        44.14|   1990940339|\n",
      "|   6|ruang komputer, p...|        100.0|   1770907636|\n",
      "|   7|aturlah posisi fi...|        57.68|   -463479969|\n",
      "|   8|posisi kepala ser...|        45.71|   -412537011|\n",
      "+----+--------------------+-------------+-------------+\n",
      "only showing top 20 rows\n",
      "\n"
     ]
    }
   ],
   "source": [
    "hash_data = data.withColumn(\"hashed_answer\", hash(\"jawaban\"))\n",
    "\n",
    "hash_data.select(\"soal\", \"jawaban\",\"skor_per_soal\", \"hashed_answer\")\n",
    "hash_data.show()"
   ]
  },
  {
   "cell_type": "markdown",
   "metadata": {},
   "source": [
    "# Memisahkan Data Training dan Data Testing"
   ]
  },
  {
   "cell_type": "code",
   "execution_count": 45,
   "metadata": {
    "colab": {
     "base_uri": "https://localhost:8080/"
    },
    "id": "VGCCCldbk6ax",
    "outputId": "13a31fe3-3356-471c-d7b6-566bba548cee"
   },
   "outputs": [
    {
     "name": "stdout",
     "output_type": "stream",
     "text": [
      "Jumlah baris data training : 86\n",
      "jumlah baris data testing : 34\n"
     ]
    }
   ],
   "source": [
    "#membagi data, 70% training dan 30% testing\n",
    "splits = hash_data.randomSplit([0.7, 0.3])\n",
    "train = splits[0].withColumnRenamed(\"skor_per_soal\", \"label\")\n",
    "test = splits[1].withColumnRenamed(\"skor_per_soal\", \"trueLabel\")\n",
    "\n",
    "#menghitung baris data training dan testing\n",
    "print(\"Jumlah baris data training :\", train.count())\n",
    "print(\"jumlah baris data testing :\", test.count())"
   ]
  },
  {
   "cell_type": "markdown",
   "metadata": {},
   "source": [
    "# Mendefinisikan Model ALS dan Mentrainingnya"
   ]
  },
  {
   "cell_type": "code",
   "execution_count": 46,
   "metadata": {
    "colab": {
     "base_uri": "https://localhost:8080/"
    },
    "id": "HERNYAtBk8SK",
    "outputId": "70d5cf15-423c-4c82-9a93-d89f4907dce0"
   },
   "outputs": [
    {
     "name": "stdout",
     "output_type": "stream",
     "text": [
      "Model telah selesai ditraining!\n"
     ]
    }
   ],
   "source": [
    "#mendefinisikan algoritma ALS untuk sistem Penskoran Otomatis pada Soal Essay\n",
    "als = ALS(maxIter=19, regParam=0.01, userCol=\"hashed_answer\",\n",
    "          itemCol=\"soal\", ratingCol=\"label\")\n",
    "\n",
    "#mentraining model dengan fungsi \".fit()\"\n",
    "model = als.fit(train)\n",
    "print(\"Model telah selesai ditraining!\")"
   ]
  },
  {
   "cell_type": "markdown",
   "metadata": {},
   "source": [
    "# Melakukan prediksi menggunakan model yang telah ditraining terhadap data testing"
   ]
  },
  {
   "cell_type": "code",
   "execution_count": 47,
   "metadata": {
    "colab": {
     "base_uri": "https://localhost:8080/"
    },
    "id": "pmewzQAwk_MX",
    "outputId": "247fa458-3eb9-4cd0-f5df-08ba60999332"
   },
   "outputs": [
    {
     "name": "stdout",
     "output_type": "stream",
     "text": [
      "+----+--------------------+---------+-------------+----------+\n",
      "|soal|             jawaban|trueLabel|hashed_answer|prediction|\n",
      "+----+--------------------+---------+-------------+----------+\n",
      "|   1|tidak, hanya memb...|    100.0|   -256638840|  99.99993|\n",
      "|   1|tidak, hanya memb...|    100.0|   -256638840|  99.99993|\n",
      "|   6|posisi tubuh, pos...|    90.37|  -1702735646|       NaN|\n",
      "|   6|        posisi tubuh|    67.08|  -1240688658|       NaN|\n",
      "|   6|ruang komputer, p...|    100.0|   1770907636|  99.99987|\n",
      "|   6|ruang komputer, p...|    100.0|   1770907636|  99.99987|\n",
      "|   6|ruang komputer, p...|    100.0|   1770907636|  99.99987|\n",
      "|   3|hak cipta adalah ...|    83.43|  -1876419705|  83.42993|\n",
      "|   3|emperbanyak cipta...|    47.67|    944450734|       NaN|\n",
      "|   5|melindungi dan me...|    74.73|  -1932865057|  74.72994|\n",
      "|   5|melindungi dan me...|    69.63|  -1210907486|       NaN|\n",
      "|   5|memlihara sumber ...|     88.3|     40672765|       NaN|\n",
      "|   4|Dijelaskan kepada...|    100.0|  -2035408785|       NaN|\n",
      "|   4|dijelaskan kepada...|    72.06|  -1834227989| 72.059906|\n",
      "|   8|posisi kepala dan...|    48.41|    899751389|       NaN|\n",
      "|   7|aturlah posisi pe...|    86.22|  -1392782412|  86.21994|\n",
      "|   2|biaya dihitung be...|    84.52|   -219318287|       NaN|\n",
      "|   2|biaya dihitung be...|    84.52|   -219318287|       NaN|\n",
      "|   2|biaya dihitung be...|    100.0|   1176853507|  99.99985|\n",
      "|   2|biaya dihitung be...|    100.0|   1176853507|  99.99985|\n",
      "+----+--------------------+---------+-------------+----------+\n",
      "only showing top 20 rows\n",
      "\n"
     ]
    }
   ],
   "source": [
    "prediction = model.transform(test)\n",
    "prediction.show()"
   ]
  },
  {
   "cell_type": "markdown",
   "metadata": {},
   "source": [
    "# Evaluasi Model"
   ]
  },
  {
   "cell_type": "code",
   "execution_count": 48,
   "metadata": {
    "colab": {
     "base_uri": "https://localhost:8080/"
    },
    "id": "e-UX1rD6mMem",
    "outputId": "0e78e662-4b1c-4e6b-b491-5382d441854b"
   },
   "outputs": [
    {
     "name": "stdout",
     "output_type": "stream",
     "text": [
      "Root Mean Square Error (RMSE): nan\n"
     ]
    }
   ],
   "source": [
    "evaluator = RegressionEvaluator(\n",
    "    labelCol=\"trueLabel\", predictionCol=\"prediction\", metricName=\"rmse\")\n",
    "rmse = evaluator.evaluate(prediction)\n",
    "print (\"Root Mean Square Error (RMSE):\", rmse)"
   ]
  },
  {
   "cell_type": "code",
   "execution_count": 49,
   "metadata": {
    "colab": {
     "base_uri": "https://localhost:8080/"
    },
    "id": "wzZO74ekmPK9",
    "outputId": "912cab2f-b096-40ae-ca08-f1967c5a0104"
   },
   "outputs": [
    {
     "name": "stdout",
     "output_type": "stream",
     "text": [
      "jumlah baris sebelum di hapus data kosong:  34\n",
      "jumlah baris setelah di hapus data kosong:  13\n",
      "jumlah baris data kosong:  21\n"
     ]
    }
   ],
   "source": [
    "prediction.count()\n",
    "a = prediction.count()\n",
    "print(\"jumlah baris sebelum di hapus data kosong: \", a)\n",
    "cleanPred = prediction.dropna(how=\"any\", subset=[\"prediction\"])\n",
    "b = cleanPred.count()\n",
    "print(\"jumlah baris setelah di hapus data kosong: \", b)\n",
    "print(\"jumlah baris data kosong: \", a-b)"
   ]
  },
  {
   "cell_type": "code",
   "execution_count": 50,
   "metadata": {
    "colab": {
     "base_uri": "https://localhost:8080/"
    },
    "id": "qPMyi5minr_F",
    "outputId": "a508069b-2732-4eb1-85e7-8274c7999f3f"
   },
   "outputs": [
    {
     "name": "stdout",
     "output_type": "stream",
     "text": [
      "+----+--------------------+---------+-------------+----------+\n",
      "|soal|             jawaban|trueLabel|hashed_answer|prediction|\n",
      "+----+--------------------+---------+-------------+----------+\n",
      "|   1|tidak, hanya memb...|    100.0|   -256638840|  99.99993|\n",
      "|   1|tidak, hanya memb...|    100.0|   -256638840|  99.99993|\n",
      "|   6|ruang komputer, p...|    100.0|   1770907636|  99.99987|\n",
      "|   6|ruang komputer, p...|    100.0|   1770907636|  99.99987|\n",
      "|   6|ruang komputer, p...|    100.0|   1770907636|  99.99987|\n",
      "|   3|hak cipta adalah ...|    83.43|  -1876419705|  83.42993|\n",
      "|   5|melindungi dan me...|    74.73|  -1932865057|  74.72994|\n",
      "|   9|kecocokan softwar...|    65.89|    447829639| 65.889946|\n",
      "|   4|dijelaskan kepada...|    72.06|  -1834227989| 72.059906|\n",
      "|   8|posisi kepala dan...|    100.0|   1782344444|  99.99991|\n",
      "|   7|aturlah posisi pe...|    86.22|  -1392782412|  86.21994|\n",
      "|   2|biaya dihitung be...|    100.0|   1176853507|  99.99985|\n",
      "|   2|biaya dihitung be...|    100.0|   1176853507|  99.99985|\n",
      "+----+--------------------+---------+-------------+----------+\n",
      "\n"
     ]
    }
   ],
   "source": [
    "cleanPred.show()"
   ]
  },
  {
   "cell_type": "code",
   "execution_count": 51,
   "metadata": {
    "colab": {
     "base_uri": "https://localhost:8080/"
    },
    "id": "Xq6Crm_tmRGh",
    "outputId": "d7e49db1-981c-4ae4-d06c-1e579fa3d7a5"
   },
   "outputs": [
    {
     "name": "stdout",
     "output_type": "stream",
     "text": [
      "Root Mean Square Error (RMSE): 0.00010312173339142772\n"
     ]
    }
   ],
   "source": [
    "rmse = evaluator.evaluate(cleanPred)\n",
    "print(\"Root Mean Square Error (RMSE):\", rmse)"
   ]
  }
 ],
 "metadata": {
  "colab": {
   "provenance": []
  },
  "kernelspec": {
   "display_name": "Python 3 (ipykernel)",
   "language": "python",
   "name": "python3"
  },
  "language_info": {
   "codemirror_mode": {
    "name": "ipython",
    "version": 3
   },
   "file_extension": ".py",
   "mimetype": "text/x-python",
   "name": "python",
   "nbconvert_exporter": "python",
   "pygments_lexer": "ipython3",
   "version": "3.10.9"
  }
 },
 "nbformat": 4,
 "nbformat_minor": 1
}
